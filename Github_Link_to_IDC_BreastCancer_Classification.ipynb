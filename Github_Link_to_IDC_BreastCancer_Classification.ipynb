{
  "nbformat": 4,
  "nbformat_minor": 0,
  "metadata": {
    "colab": {
      "provenance": [],
      "authorship_tag": "ABX9TyM6/Tec5OuBJ1FuwzM7t39e",
      "include_colab_link": true
    },
    "kernelspec": {
      "name": "python3",
      "display_name": "Python 3"
    },
    "language_info": {
      "name": "python"
    }
  },
  "cells": [
    {
      "cell_type": "markdown",
      "metadata": {
        "id": "view-in-github",
        "colab_type": "text"
      },
      "source": [
        "<a href=\"https://colab.research.google.com/github/heesukjang/Income_Prediction/blob/main/Github_Link_to_IDC_BreastCancer_Classification.ipynb\" target=\"_parent\"><img src=\"https://colab.research.google.com/assets/colab-badge.svg\" alt=\"Open In Colab\"/></a>"
      ]
    },
    {
      "cell_type": "markdown",
      "source": [
        "#W207 Applied Machine Learning\n",
        "**Fall 2022**<br>\n",
        "Heesuk Jang"
      ],
      "metadata": {
        "id": "EGxK3e70rzEU"
      }
    },
    {
      "cell_type": "markdown",
      "source": [
        "# Github Link to Invasive Ductal Carcinoma (IDC) Breast Cancer Classification\n",
        "\n",
        "\n"
      ],
      "metadata": {
        "id": "NzGWlWbGrcyt"
      }
    },
    {
      "cell_type": "markdown",
      "source": [
        "https://github.com/TatiannaD/w207_fall2022_mlproject/tree/main"
      ],
      "metadata": {
        "id": "Z4000qRQrdrF"
      }
    }
  ]
}